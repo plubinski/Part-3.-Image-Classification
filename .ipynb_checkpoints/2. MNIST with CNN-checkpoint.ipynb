{
 "cells": [
  {
   "cell_type": "code",
   "execution_count": 1,
   "metadata": {
    "colab": {
     "autoexec": {
      "startup": false,
      "wait_interval": 0
     }
    },
    "colab_type": "code",
    "collapsed": true,
    "id": "iHTLR10xYbAQ"
   },
   "outputs": [],
   "source": [
    "!pip install -q keras"
   ]
  },
  {
   "cell_type": "code",
   "execution_count": 2,
   "metadata": {
    "colab": {
     "autoexec": {
      "startup": false,
      "wait_interval": 0
     },
     "base_uri": "https://localhost:8080/",
     "height": 35,
     "output_extras": [
      {
       "item_id": 1
      }
     ]
    },
    "colab_type": "code",
    "executionInfo": {
     "elapsed": 6272,
     "status": "ok",
     "timestamp": 1516382084844,
     "user": {
      "displayName": "Oleksandr Zakharchuk",
      "photoUrl": "https://lh3.googleusercontent.com/a/default-user=s128",
      "userId": "106036967230627817979"
     },
     "user_tz": -60
    },
    "id": "UoVgRSqrYiWj",
    "outputId": "d1e947da-250e-4ae1-ad78-bc1661e5e584"
   },
   "outputs": [
    {
     "name": "stderr",
     "output_type": "stream",
     "text": [
      "C:\\Users\\plubi\\Anaconda3\\lib\\site-packages\\h5py\\__init__.py:34: FutureWarning: Conversion of the second argument of issubdtype from `float` to `np.floating` is deprecated. In future, it will be treated as `np.float64 == np.dtype(float).type`.\n",
      "  from ._conv import register_converters as _register_converters\n",
      "Using TensorFlow backend.\n"
     ]
    }
   ],
   "source": [
    "from keras import layers\n",
    "from keras import models\n",
    "\n",
    "model = models.Sequential()\n",
    "model.add(layers.Conv2D(32, (3, 3), activation='relu', input_shape=(28, 28, 1)))\n",
    "model.add(layers.MaxPooling2D((2, 2)))\n",
    "model.add(layers.Conv2D(64, (3, 3), activation='relu'))\n",
    "model.add(layers.MaxPooling2D((2, 2)))\n",
    "model.add(layers.Conv2D(64, (3, 3), activation='relu'))\n",
    "model.add(layers.Flatten())\n",
    "model.add(layers.Dense(64, activation='relu'))\n",
    "model.add(layers.Dense(10, activation='softmax'))"
   ]
  },
  {
   "cell_type": "code",
   "execution_count": null,
   "metadata": {
    "colab": {
     "autoexec": {
      "startup": false,
      "wait_interval": 0
     },
     "base_uri": "https://localhost:8080/",
     "height": 52,
     "output_extras": [
      {
       "item_id": 12
      }
     ]
    },
    "colab_type": "code",
    "executionInfo": {
     "elapsed": 3805,
     "status": "ok",
     "timestamp": 1516382089242,
     "user": {
      "displayName": "Oleksandr Zakharchuk",
      "photoUrl": "https://lh3.googleusercontent.com/a/default-user=s128",
      "userId": "106036967230627817979"
     },
     "user_tz": -60
    },
    "id": "7RLMSlxWYnJ1",
    "outputId": "db1b9937-7058-4f41-8fcf-07856ee75a73"
   },
   "outputs": [
    {
     "name": "stdout",
     "output_type": "stream",
     "text": [
      "Downloading data from https://s3.amazonaws.com/img-datasets/mnist.npz\n",
      "11493376/11490434 [==============================] - 5s 0us/step\n"
     ]
    }
   ],
   "source": [
    "from keras.datasets import mnist\n",
    "from keras.utils import to_categorical\n",
    "\n",
    "(train_images, train_labels), (test_images, test_labels) = mnist.load_data()\n",
    "\n",
    "train_images = train_images.reshape((60000, 28, 28, 1))\n",
    "train_images = train_images.astype('float32') / 255\n",
    "\n",
    "test_images = test_images.reshape((10000, 28, 28, 1))\n",
    "test_images = test_images.astype('float32') / 255\n",
    "\n",
    "train_labels = to_categorical(train_labels)\n",
    "test_labels = to_categorical(test_labels)"
   ]
  },
  {
   "cell_type": "code",
   "execution_count": null,
   "metadata": {
    "colab": {
     "autoexec": {
      "startup": false,
      "wait_interval": 0
     },
     "base_uri": "https://localhost:8080/",
     "height": 232,
     "output_extras": [
      {
       "item_id": 118
      },
      {
       "item_id": 205
      },
      {
       "item_id": 206
      }
     ]
    },
    "colab_type": "code",
    "executionInfo": {
     "elapsed": 53128,
     "status": "ok",
     "timestamp": 1516382142670,
     "user": {
      "displayName": "Oleksandr Zakharchuk",
      "photoUrl": "https://lh3.googleusercontent.com/a/default-user=s128",
      "userId": "106036967230627817979"
     },
     "user_tz": -60
    },
    "id": "LOjS407ZZH7V",
    "outputId": "efe44e13-664f-456b-ac2e-9244488d136f"
   },
   "outputs": [
    {
     "name": "stdout",
     "output_type": "stream",
     "text": [
      "Epoch 1/5\n",
      "56832/60000 [===========================>..] - ETA: 5s - loss: 0.1781 - acc: 0.9450"
     ]
    }
   ],
   "source": [
    "model.compile(optimizer='rmsprop',\n",
    "              loss='categorical_crossentropy',\n",
    "              metrics=['accuracy'])\n",
    "model.fit(train_images, train_labels, epochs=5, batch_size=64)"
   ]
  },
  {
   "cell_type": "code",
   "execution_count": null,
   "metadata": {
    "colab": {
     "autoexec": {
      "startup": false,
      "wait_interval": 0
     },
     "base_uri": "https://localhost:8080/",
     "height": 35,
     "output_extras": [
      {
       "item_id": 15
      }
     ]
    },
    "colab_type": "code",
    "executionInfo": {
     "elapsed": 3661,
     "status": "ok",
     "timestamp": 1516382057003,
     "user": {
      "displayName": "Oleksandr Zakharchuk",
      "photoUrl": "https://lh3.googleusercontent.com/a/default-user=s128",
      "userId": "106036967230627817979"
     },
     "user_tz": -60
    },
    "id": "UTa8xgbgZXFN",
    "outputId": "1d8bab13-3fff-4533-dc1e-9409515e03f1"
   },
   "outputs": [],
   "source": [
    "test_loss, test_acc = model.evaluate(test_images, test_labels)"
   ]
  },
  {
   "cell_type": "code",
   "execution_count": null,
   "metadata": {
    "colab": {
     "autoexec": {
      "startup": false,
      "wait_interval": 0
     },
     "base_uri": "https://localhost:8080/",
     "height": 35,
     "output_extras": [
      {
       "item_id": 1
      }
     ]
    },
    "colab_type": "code",
    "executionInfo": {
     "elapsed": 565,
     "status": "ok",
     "timestamp": 1516382057574,
     "user": {
      "displayName": "Oleksandr Zakharchuk",
      "photoUrl": "https://lh3.googleusercontent.com/a/default-user=s128",
      "userId": "106036967230627817979"
     },
     "user_tz": -60
    },
    "id": "uWNKzkTDZrpI",
    "outputId": "95176f88-4f2e-49c0-f535-d210c3bd6678"
   },
   "outputs": [],
   "source": [
    "test_acc"
   ]
  },
  {
   "cell_type": "code",
   "execution_count": null,
   "metadata": {
    "colab": {
     "autoexec": {
      "startup": false,
      "wait_interval": 0
     },
     "base_uri": "https://localhost:8080/",
     "height": 426,
     "output_extras": [
      {
       "item_id": 1
      }
     ]
    },
    "colab_type": "code",
    "executionInfo": {
     "elapsed": 626,
     "status": "ok",
     "timestamp": 1516382250514,
     "user": {
      "displayName": "Oleksandr Zakharchuk",
      "photoUrl": "https://lh3.googleusercontent.com/a/default-user=s128",
      "userId": "106036967230627817979"
     },
     "user_tz": -60
    },
    "id": "X_G-1G4taroO",
    "outputId": "a6d6b2a7-bcfd-4968-9701-4258f7b2a670"
   },
   "outputs": [],
   "source": [
    "model.summary()"
   ]
  },
  {
   "cell_type": "markdown",
   "metadata": {
    "colab_type": "text",
    "id": "NPWU1HbYaspS"
   },
   "source": [
    "Tasks:\n",
    "1. Try training on a GPU instance. Is it faster? Why?\n",
    "2. Compare overfitting with the previous model. \n",
    "3. Try performing classification on CIFAR10 dataset. \n",
    "\n",
    "Homework. Go through the following tutorials:\n",
    "1. https://github.com/fchollet/deep-learning-with-python-notebooks/blob/master/5.2-using-convnets-with-small-datasets.ipynb\n",
    "2. https://github.com/fchollet/deep-learning-with-python-notebooks/blob/master/5.3-using-a-pretrained-convnet.ipynb\n",
    "3. https://github.com/fchollet/deep-learning-with-python-notebooks/blob/master/5.4-visualizing-what-convnets-learn.ipynb"
   ]
  },
  {
   "cell_type": "code",
   "execution_count": null,
   "metadata": {
    "colab": {
     "autoexec": {
      "startup": false,
      "wait_interval": 0
     },
     "base_uri": "https://localhost:8080/",
     "height": 70,
     "output_extras": [
      {
       "item_id": 1
      },
      {
       "item_id": 12
      }
     ]
    },
    "colab_type": "code",
    "executionInfo": {
     "elapsed": 11425,
     "status": "ok",
     "timestamp": 1516423599264,
     "user": {
      "displayName": "Oleksandr Zakharchuk",
      "photoUrl": "https://lh3.googleusercontent.com/a/default-user=s128",
      "userId": "106036967230627817979"
     },
     "user_tz": -60
    },
    "id": "oat8DTAcZ5xZ",
    "outputId": "cb7b6383-069c-4b5b-e567-f9b9ac0db48f"
   },
   "outputs": [],
   "source": [
    "from keras.datasets import cifar10\n",
    "\n",
    "(x_train, y_train), (x_test, y_test) = cifar10.load_data()"
   ]
  },
  {
   "cell_type": "code",
   "execution_count": null,
   "metadata": {
    "colab": {
     "autoexec": {
      "startup": false,
      "wait_interval": 0
     }
    },
    "colab_type": "code",
    "collapsed": true,
    "id": "ZVba9chc42kU"
   },
   "outputs": [],
   "source": []
  }
 ],
 "metadata": {
  "accelerator": "GPU",
  "colab": {
   "default_view": {},
   "name": "2. MNIST with CNN.ipynb",
   "provenance": [],
   "version": "0.3.2",
   "views": {}
  },
  "kernelspec": {
   "display_name": "Python 3",
   "language": "python",
   "name": "python3"
  },
  "language_info": {
   "codemirror_mode": {
    "name": "ipython",
    "version": 3
   },
   "file_extension": ".py",
   "mimetype": "text/x-python",
   "name": "python",
   "nbconvert_exporter": "python",
   "pygments_lexer": "ipython3",
   "version": "3.6.4"
  }
 },
 "nbformat": 4,
 "nbformat_minor": 1
}
